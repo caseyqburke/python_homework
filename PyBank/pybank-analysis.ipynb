{
 "cells": [
  {
   "cell_type": "code",
   "execution_count": 22,
   "metadata": {},
   "outputs": [],
   "source": [
    "import os\n",
    "from pathlib import Path\n",
    "import csv"
   ]
  },
  {
   "cell_type": "code",
   "execution_count": 23,
   "metadata": {},
   "outputs": [],
   "source": [
    "csvpath = Path('Resources/budget_data.csv')"
   ]
  },
  {
   "cell_type": "code",
   "execution_count": 33,
   "metadata": {},
   "outputs": [
    {
     "name": "stdout",
     "output_type": "stream",
     "text": [
      "-2315.1176470588234\n",
      "86\n"
     ]
    }
   ],
   "source": [
    "\n",
    "\n",
    "month_total = 0\n",
    "revenue_total = 0\n",
    "revenue = []\n",
    "previous_revenue = 0\n",
    "revenue_change = 0\n",
    "greatest_decrease = [\"\", 9999999]\n",
    "greatest_increase = [\"\", 0]\n",
    "revenue_change_list = []\n",
    "revenue_average = 0\n",
    "Month_average = []\n",
    "\n",
    "with open(csvpath) as csvfile:\n",
    "    csvreader = csv.reader(csvfile)\n",
    "\n",
    "    csvreader = csv.reader(csvfile)\n",
    "    header = next(csvreader)\n",
    "    initial_month = next(csvreader)\n",
    "    previous_revenue = int(initial_month[1])\n",
    "    month_total = 1\n",
    "    revenue_total = revenue_total + previous_revenue\n",
    "    for row in csvreader:\n",
    "            \n",
    "            month_total += 1\n",
    "            revenue_total = revenue_total + int(row[1])\n",
    "            revenue_change = int(row[1])- previous_revenue\n",
    "            previous_revenue = int(row[1])\n",
    "            revenue_change_list.append(revenue_change)      \n",
    "            if revenue_change>greatest_increase[1]:\n",
    "                greatest_increase[1]= revenue_change\n",
    "                greatest_increase[0] = row[0]\n",
    "          \n",
    "            if revenue_change<greatest_decrease[1]:\n",
    "                greatest_decrease[1]= revenue_change\n",
    "                greatest_decrease[0] = row[0]\n",
    "    average = sum(revenue_change_list) / (month_total - 1)\n",
    "    print(average)\n",
    "    print(month_total)\n",
    "\n",
    "    "
   ]
  },
  {
   "cell_type": "code",
   "execution_count": 34,
   "metadata": {},
   "outputs": [
    {
     "data": {
      "text/plain": [
       "38382578"
      ]
     },
     "execution_count": 34,
     "metadata": {},
     "output_type": "execute_result"
    }
   ],
   "source": [
    "revenue_total"
   ]
  },
  {
   "cell_type": "code",
   "execution_count": 35,
   "metadata": {},
   "outputs": [
    {
     "data": {
      "text/plain": [
       "['Sep-2013', -2196167]"
      ]
     },
     "execution_count": 35,
     "metadata": {},
     "output_type": "execute_result"
    }
   ],
   "source": [
    "greatest_decrease"
   ]
  },
  {
   "cell_type": "code",
   "execution_count": 36,
   "metadata": {},
   "outputs": [
    {
     "data": {
      "text/plain": [
       "['Feb-2012', 1926159]"
      ]
     },
     "execution_count": 36,
     "metadata": {},
     "output_type": "execute_result"
    }
   ],
   "source": [
    "greatest_increase"
   ]
  },
  {
   "cell_type": "code",
   "execution_count": 42,
   "metadata": {},
   "outputs": [],
   "source": [
    "with open('Resources/budget_data.txt', 'w') as file:\n",
    "    # Write daily_average to the output file, convert to string\n",
    "    file.write(f\"The total revenue was {revenue_total}.\\n\")\n",
    "    file.write(f\"The total number of months was {month_total}.\\n\")\n",
    "    file.write(f\"The greatest decrease was {greatest_decrease}.\\n\")\n",
    "    file.write(f\"The greatest increase was {greatest_increase}.\\n\")\n",
    "    file.write(f\"The average change was {average}.\\n\")"
   ]
  },
  {
   "cell_type": "code",
   "execution_count": null,
   "metadata": {},
   "outputs": [],
   "source": []
  }
 ],
 "metadata": {
  "kernelspec": {
   "display_name": "Python 3",
   "language": "python",
   "name": "python3"
  },
  "language_info": {
   "codemirror_mode": {
    "name": "ipython",
    "version": 3
   },
   "file_extension": ".py",
   "mimetype": "text/x-python",
   "name": "python",
   "nbconvert_exporter": "python",
   "pygments_lexer": "ipython3",
   "version": "3.7.6"
  }
 },
 "nbformat": 4,
 "nbformat_minor": 4
}
